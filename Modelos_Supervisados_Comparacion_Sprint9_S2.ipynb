{
  "cells": [
    {
      "cell_type": "markdown",
      "metadata": {
        "id": "view-in-github",
        "colab_type": "text"
      },
      "source": [
        "<a href=\"https://colab.research.google.com/github/Haz-mor/Render_DATA32/blob/main/Modelos_Supervisados_Comparacion_Sprint9_S2.ipynb\" target=\"_parent\"><img src=\"https://colab.research.google.com/assets/colab-badge.svg\" alt=\"Open In Colab\"/></a>"
      ]
    },
    {
      "cell_type": "markdown",
      "id": "07ef3eeb",
      "metadata": {
        "id": "07ef3eeb"
      },
      "source": [
        "# Sprint 9 - Sesión 2\n",
        "\n",
        "## Comparación de Modelos Supervisados: Árbol de Decisión, Regresión Logística y Random Forest"
      ]
    },
    {
      "cell_type": "code",
      "execution_count": null,
      "id": "764e2a0c",
      "metadata": {
        "id": "764e2a0c"
      },
      "outputs": [],
      "source": [
        "import pandas as pd\n",
        "\n",
        "# Cargar los datos\n",
        "df = pd.read_csv(\"users_behavior.csv\")\n",
        "df.head()"
      ]
    },
    {
      "cell_type": "code",
      "execution_count": null,
      "id": "2fe76e22",
      "metadata": {
        "id": "2fe76e22"
      },
      "outputs": [],
      "source": [
        "from sklearn.model_selection import train_test_split, GridSearchCV\n",
        "from sklearn.preprocessing import StandardScaler\n",
        "from sklearn.tree import DecisionTreeClassifier\n",
        "from sklearn.linear_model import LogisticRegression\n",
        "from sklearn.ensemble import RandomForestClassifier\n",
        "from sklearn.metrics import classification_report, confusion_matrix\n",
        "import matplotlib.pyplot as plt\n",
        "import seaborn as sns\n",
        "\n"
      ]
    },
    {
      "cell_type": "code",
      "source": [
        "# Preparación de datos\n",
        "X = df.drop(\"is_ultra\", axis=1)\n",
        "y = df[\"is_ultra\"]\n"
      ],
      "metadata": {
        "id": "VBxZ9fn2nhoZ"
      },
      "id": "VBxZ9fn2nhoZ",
      "execution_count": null,
      "outputs": []
    },
    {
      "cell_type": "code",
      "source": [
        "# Escalar valores\n",
        "scaler = StandardScaler()\n",
        "X_scaled = scaler.fit_transform(X)"
      ],
      "metadata": {
        "id": "KOKQVwarnjxB"
      },
      "id": "KOKQVwarnjxB",
      "execution_count": null,
      "outputs": []
    },
    {
      "cell_type": "code",
      "source": [
        "# Se agrega stratify para evitar que un conjunto esté desbalanceado respecto al otro\n",
        "X_train, X_test, y_train, y_test = train_test_split(X_scaled, y, test_size=0.3, random_state=42, stratify=y)"
      ],
      "metadata": {
        "id": "sLs5iSL_nli4"
      },
      "id": "sLs5iSL_nli4",
      "execution_count": null,
      "outputs": []
    },
    {
      "cell_type": "code",
      "execution_count": null,
      "id": "62e06095",
      "metadata": {
        "id": "62e06095"
      },
      "outputs": [],
      "source": [
        "# Definir modelos y grids\n",
        "dt = DecisionTreeClassifier(random_state=42)\n",
        "lr = LogisticRegression(random_state=42, max_iter=1000)\n",
        "rf = RandomForestClassifier(random_state=42)\n",
        "\n",
        "param_dt = {'max_depth': [3, 5, 7, 10] #Profundidad del arbol\n",
        "            , 'criterion': ['gini', 'entropy']} # funciones de división\n",
        "param_lr = {'C': [0.01, 0.1, 1, 10]} # inverso de la regularización\n",
        "param_rf = {'n_estimators': [50, 100, 200] # numero de árboles\n",
        "            ,'max_depth': [3, 5, 10]} #Profundidad máxima de cada arbol\n",
        "\n",
        "grid_dt = GridSearchCV(dt, param_dt, cv=5)\n",
        "grid_lr = GridSearchCV(lr, param_lr, cv=5)\n",
        "grid_rf = GridSearchCV(rf, param_rf, cv=5)\n",
        "#Usa validación cruzada de 5 pliegues (cv=5) para evaluar cada combinación."
      ]
    },
    {
      "cell_type": "code",
      "execution_count": null,
      "id": "e34c2e2e",
      "metadata": {
        "id": "e34c2e2e"
      },
      "outputs": [],
      "source": [
        "# Entrenamiento\n",
        "grid_dt.fit(X_train, y_train)\n",
        "grid_lr.fit(X_train, y_train)\n",
        "grid_rf.fit(X_train, y_train)\n",
        "\n",
        "# Resultados\n",
        "results = {\n",
        "    \"Decision Tree\": grid_dt,\n",
        "    \"Logistic Regression\": grid_lr,\n",
        "    \"Random Forest\": grid_rf\n",
        "}\n",
        "\n",
        "# Evaluación\n",
        "metrics = []\n",
        "for name, model in results.items():\n",
        "    y_pred = model.predict(X_test)\n",
        "    report = classification_report(y_test, y_pred, output_dict=True)\n",
        "    metrics.append({\n",
        "        \"Model\": name,\n",
        "        \"Accuracy\": report[\"accuracy\"],\n",
        "        \"Precision\": report[\"1\"][\"precision\"],\n",
        "        \"Recall\": report[\"1\"][\"recall\"],\n",
        "        \"F1-score\": report[\"1\"][\"f1-score\"]\n",
        "    })\n",
        "\n",
        "df_metrics = pd.DataFrame(metrics)\n",
        "df_metrics"
      ]
    },
    {
      "cell_type": "code",
      "source": [
        "# Mostrar mejores hiperparámetros encontrados\n",
        "best_params = {\n",
        "    \"Decision Tree\": grid_dt.best_params_,\n",
        "    \"Logistic Regression\": grid_lr.best_params_,\n",
        "    \"Random Forest\": grid_rf.best_params_\n",
        "}\n",
        "\n",
        "df_best_params = pd.DataFrame.from_dict(best_params, orient='index')\n",
        "df_best_params"
      ],
      "metadata": {
        "id": "vUFD1HBnnVG5"
      },
      "id": "vUFD1HBnnVG5",
      "execution_count": null,
      "outputs": []
    },
    {
      "cell_type": "code",
      "execution_count": null,
      "id": "3d48b3b4",
      "metadata": {
        "id": "3d48b3b4"
      },
      "outputs": [],
      "source": [
        "# Matrices de confusión\n",
        "fig, axes = plt.subplots(1, 3, figsize=(18, 5))\n",
        "for ax, (name, model) in zip(axes, results.items()):\n",
        "    y_pred = model.predict(X_test)\n",
        "    cm = confusion_matrix(y_test, y_pred)\n",
        "    sns.heatmap(cm, annot=True, fmt='d', cmap='Blues', ax=ax)\n",
        "    ax.set_title(name)\n",
        "    ax.set_xlabel(\"Predicted\")\n",
        "    ax.set_ylabel(\"Actual\")\n",
        "\n",
        "plt.tight_layout()\n",
        "plt.show()"
      ]
    }
  ],
  "metadata": {
    "colab": {
      "provenance": [],
      "include_colab_link": true
    },
    "language_info": {
      "name": "python"
    },
    "kernelspec": {
      "name": "python3",
      "display_name": "Python 3"
    }
  },
  "nbformat": 4,
  "nbformat_minor": 5
}